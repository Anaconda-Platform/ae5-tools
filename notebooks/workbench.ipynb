{
 "cells": [
  {
   "cell_type": "code",
   "execution_count": null,
   "metadata": {},
   "outputs": [],
   "source": [
    "from src.anaconda.enterprise.server.sdk.contract.dto.options import ClientOptions\n",
    "\n",
    "options_dict: dict = {\n",
    "    \"hostname\": \"\",\n",
    "    \"username\": \"\",\n",
    "    \"password\": \"\",\n",
    "}\n",
    "\n",
    "options: ClientOptions = ClientOptions.parse_obj(options_dict)"
   ]
  },
  {
   "cell_type": "code",
   "execution_count": null,
   "metadata": {},
   "outputs": [],
   "source": [
    "from src.anaconda.enterprise.server.sdk.session.factory import AESessionFactory\n",
    "from src.anaconda.enterprise.server.sdk.client import AEClient\n",
    "\n",
    "session_factory: AESessionFactory = AESessionFactory(options=options)"
   ]
  },
  {
   "cell_type": "code",
   "execution_count": null,
   "metadata": {},
   "outputs": [],
   "source": [
    "client: AEClient = AEClient(session_factory=session_factory)"
   ]
  },
  {
   "cell_type": "code",
   "execution_count": null,
   "metadata": {},
   "outputs": [],
   "source": [
    "client.deployment_token_get(id=\"a2-6d496217b4bd4b76b2018a205d8985be\")"
   ]
  },
  {
   "cell_type": "code",
   "execution_count": null,
   "metadata": {},
   "outputs": [],
   "source": [
    "client.secret_names_get()"
   ]
  },
  {
   "cell_type": "code",
   "execution_count": null,
   "metadata": {},
   "outputs": [],
   "source": [
    "client.secret_put(key=\"josh\", value=\"was here\")"
   ]
  },
  {
   "cell_type": "code",
   "execution_count": null,
   "metadata": {},
   "outputs": [],
   "source": [
    "client.secret_names_get()"
   ]
  },
  {
   "cell_type": "code",
   "execution_count": null,
   "metadata": {},
   "outputs": [],
   "source": [
    "client.secret_delete(key=\"josh\")"
   ]
  },
  {
   "cell_type": "code",
   "execution_count": null,
   "metadata": {},
   "outputs": [],
   "source": [
    "client.secret_names_get()"
   ]
  },
  {
   "cell_type": "code",
   "execution_count": null,
   "metadata": {},
   "outputs": [],
   "source": [
    "client.projects_get()"
   ]
  },
  {
   "cell_type": "code",
   "execution_count": null,
   "outputs": [],
   "source": [
    "from anaconda.enterprise.server.sdk.contract.dto.response.project_upload import ProjectUploadResponse\n",
    "\n",
    "upload_response: ProjectUploadResponse = client.project_upload(\n",
    "    project_archive_path=\"../test/fixtures/mlflow.tracking.pruner.0.1.1.tar.gz\",\n",
    "    tag=\"0.1.1\",\n",
    "    name=\"dev.mlflow.tracking.pruner\",\n",
    ")"
   ],
   "metadata": {
    "collapsed": false
   }
  },
  {
   "cell_type": "code",
   "execution_count": null,
   "outputs": [],
   "source": [
    "upload_response"
   ],
   "metadata": {
    "collapsed": false
   }
  },
  {
   "cell_type": "code",
   "execution_count": null,
   "outputs": [],
   "source": [
    "upload_response.id"
   ],
   "metadata": {
    "collapsed": false
   }
  },
  {
   "cell_type": "code",
   "execution_count": null,
   "outputs": [],
   "source": [
    "project_revisions = client.project_revisions_get(project_id=upload_response.id)"
   ],
   "metadata": {
    "collapsed": false
   }
  },
  {
   "cell_type": "code",
   "execution_count": null,
   "outputs": [],
   "source": [
    "project_revisions"
   ],
   "metadata": {
    "collapsed": false
   }
  },
  {
   "cell_type": "code",
   "execution_count": null,
   "outputs": [],
   "source": [
    "deploy_params: dict = {\n",
    "    \"project_id\": upload_response.id,\n",
    "    \"deployment_name\": \"programmatic_deployment\",\n",
    "    \"revision_id\": project_revisions[0].id,\n",
    "    \"command\": project_revisions[0].commands[1].id,\n",
    "}\n",
    "deploy_params"
   ],
   "metadata": {
    "collapsed": false
   }
  },
  {
   "cell_type": "code",
   "execution_count": null,
   "outputs": [],
   "source": [
    "from anaconda.enterprise.server.sdk.contract.dto.response.project_deploy import ProjectDeployResponse\n",
    "\n",
    "project_deploy_response: ProjectDeployResponse = client.project_deploy(**deploy_params)"
   ],
   "metadata": {
    "collapsed": false
   }
  },
  {
   "cell_type": "code",
   "execution_count": null,
   "outputs": [],
   "source": [
    "project_deploy_response"
   ],
   "metadata": {
    "collapsed": false
   }
  }
 ],
 "metadata": {
  "kernelspec": {
   "display_name": "Python 3",
   "language": "python",
   "name": "python3"
  },
  "language_info": {
   "codemirror_mode": {
    "name": "ipython",
    "version": 2
   },
   "file_extension": ".py",
   "mimetype": "text/x-python",
   "name": "python",
   "nbconvert_exporter": "python",
   "pygments_lexer": "ipython2",
   "version": "2.7.6"
  }
 },
 "nbformat": 4,
 "nbformat_minor": 0
}
