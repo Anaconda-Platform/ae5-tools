{
 "cells": [
  {
   "cell_type": "code",
   "execution_count": null,
   "outputs": [],
   "source": [
    "from src.anaconda.enterprise.sdk.cluster.config import ConfigManager\n",
    "from src.anaconda.enterprise.sdk.contracts.dto.cluster.options import ClusterOptions\n",
    "\n",
    "options_dict: dict = {\n",
    "    \"hostname\": \"\",\n",
    "    \"username\": \"\",\n",
    "    \"password\": \"\",\n",
    "}\n",
    "\n",
    "options: ClusterOptions = ClusterOptions.parse_obj(options_dict)\n",
    "config: ConfigManager = ConfigManager()"
   ],
   "metadata": {
    "collapsed": false
   }
  },
  {
   "cell_type": "code",
   "execution_count": null,
   "outputs": [],
   "source": [
    "from src.anaconda.enterprise.sdk.cluster.client import ClusterClient\n",
    "\n",
    "cluster_client: ClusterClient = ClusterClient(options=options, config=config)"
   ],
   "metadata": {
    "collapsed": false
   }
  },
  {
   "cell_type": "code",
   "execution_count": null,
   "outputs": [],
   "source": [
    "from src.anaconda.enterprise.sdk.contracts.dto.responses.deployment_token import DeploymentTokenResponse\n",
    "from src.anaconda.enterprise.sdk.contracts.dto.requests.deployment_token import DeploymentTokenRequest\n",
    "from src.anaconda.enterprise.sdk.contracts.ae_user_session_command import AEUserSessionCommand\n",
    "\n",
    "request: DeploymentTokenRequest = DeploymentTokenRequest(ident=\"\")\n",
    "result: DeploymentTokenResponse = cluster_client.call(method=AEUserSessionCommand.DEPLOYMENT_TOKEN, request=request)\n",
    "print(result)"
   ],
   "metadata": {
    "collapsed": false
   }
  }
 ],
 "metadata": {
  "kernelspec": {
   "display_name": "Python 3",
   "language": "python",
   "name": "python3"
  },
  "language_info": {
   "codemirror_mode": {
    "name": "ipython",
    "version": 2
   },
   "file_extension": ".py",
   "mimetype": "text/x-python",
   "name": "python",
   "nbconvert_exporter": "python",
   "pygments_lexer": "ipython2",
   "version": "2.7.6"
  }
 },
 "nbformat": 4,
 "nbformat_minor": 0
}
